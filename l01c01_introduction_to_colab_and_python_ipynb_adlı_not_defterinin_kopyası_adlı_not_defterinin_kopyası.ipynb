{
  "nbformat": 4,
  "nbformat_minor": 0,
  "metadata": {
    "accelerator": "GPU",
    "colab": {
      "name": "l01c01_introduction_to_colab_and_python.ipynb adlı not defterinin kopyası adlı not defterinin kopyası",
      "provenance": [],
      "collapsed_sections": [],
      "toc_visible": true
    },
    "kernelspec": {
      "display_name": "Python 3",
      "name": "python3"
    }
  },
  "cells": [
    {
      "cell_type": "code",
      "metadata": {
        "id": "7UA8as_elXUm"
      },
      "source": [
        "points=0\r\n",
        "correct=0"
      ],
      "execution_count": null,
      "outputs": []
    },
    {
      "cell_type": "code",
      "metadata": {
        "id": "01s7IDJthbH8"
      },
      "source": [
        "question1=\"Savaşlarda düşmandan elde edilen eşya, araç ve başka mallara ne ad verilir?\"\r\n",
        "print(question1)\r\n",
        "answer1=input(\"cevap: \")\r\n",
        "if answer1==\"ganimet\" or answer1==\"Ganimet\":\r\n",
        "  print(\"correct answer\")\r\n",
        "  print(\"you got 10 points\")\r\n",
        "  points+=10\r\n",
        "  correct+=1\r\n",
        "elif answer1==\"\":\r\n",
        "  print(\"answer is 'Ganimet' \")\r\n",
        "else:\r\n",
        "  print(\"wrong answer\")\r\n",
        "  print(\"answer is 'Ganimet' \")\r\n"
      ],
      "execution_count": null,
      "outputs": []
    },
    {
      "cell_type": "code",
      "metadata": {
        "id": "TPJ7QIJ8nfPv"
      },
      "source": [
        "question2=\"Atmosferde en yüksek oranda bulunan gaz hangi gazdır?\"\r\n",
        "print(question2)\r\n",
        "answer2=input(\"cevap: \")\r\n",
        "if answer2==\"azot\" or answer2==\"AZOT\":\r\n",
        "  print(\"correct answer\")\r\n",
        "  print(\"you got 10 points\")\r\n",
        "  points+=10\r\n",
        "  correct+=1\r\n",
        "elif answer2==\"\":\r\n",
        "  print(\"answer is 'azot' \")\r\n",
        "else:\r\n",
        "  print(\"wrong answer\")\r\n",
        "  print(\"answer is 'azot' \")\r\n",
        "\r\n"
      ],
      "execution_count": null,
      "outputs": []
    },
    {
      "cell_type": "code",
      "metadata": {
        "id": "EnNui8ZQnfxT"
      },
      "source": [
        "question3=\"Kandaki şeker oranını hangi hormon düşürür?\"\r\n",
        "print(question3)\r\n",
        "answer3=input(\"cevap: \")\r\n",
        "if answer3==\"insülin\" or answer3==\"İNSÜLİN\":\r\n",
        "  print(\"correct answer\")\r\n",
        "  print(\"you got 10 points\")\r\n",
        "  points+=10\r\n",
        "  correct+=1\r\n",
        "elif answer3==\"\":\r\n",
        "  print(\"answer is 'insülin' \")\r\n",
        "else:\r\n",
        "  print(\"wrong answer\")\r\n",
        "  print(\"answer is 'insülin' \")\r\n",
        "\r\n"
      ],
      "execution_count": null,
      "outputs": []
    },
    {
      "cell_type": "code",
      "metadata": {
        "id": "eUL9Yglfnf7g"
      },
      "source": [
        "question4=\"Tanıtma filmine ne ad verilir?\"\r\n",
        "print(question4)\r\n",
        "answer4=input(\"cevap: \")\r\n",
        "if answer4==\"fragman\" or answer1==\"FRAGMAN\":\r\n",
        "  print(\"correct answer\")\r\n",
        "  print(\"you got 10 points\")\r\n",
        "  points+=10\r\n",
        "  correct+=1\r\n",
        "elif answer4==\"\":\r\n",
        "  print(\"answer is 'fragman' \")\r\n",
        "else:\r\n",
        "  print(\"wrong answer\")\r\n",
        "  print(\"answer is 'fragman' \")\r\n",
        "\r\n"
      ],
      "execution_count": null,
      "outputs": []
    },
    {
      "cell_type": "code",
      "metadata": {
        "id": "v0CxPHLCngGT"
      },
      "source": [
        "question5=\"Japonların geleneksel güreşine ne ad verilir?\"\r\n",
        "print(question5)\r\n",
        "answer5=input(\"cevap: \")\r\n",
        "if answer5==\"sumo\" or answer1==\"SUMO\":\r\n",
        "  print(\"correct answer\")\r\n",
        "  print(\"you got 10 points\")\r\n",
        "  points+=10\r\n",
        "  correct+=1\r\n",
        "elif answer5==\"\":\r\n",
        "  print(\"answer is 'sumo' \")\r\n",
        "else:\r\n",
        "  print(\"wrong answer\")\r\n",
        "  print(\"answer is 'sumo' \")\r\n",
        "\r\n"
      ],
      "execution_count": null,
      "outputs": []
    },
    {
      "cell_type": "code",
      "metadata": {
        "id": "pyVpf6iSngQ_"
      },
      "source": [
        "question6=\"Büyük Okyanus ile Atlas Okyanusunu birbirine bağlayan kanalın adı nedir?\"\r\n",
        "print(question6)\r\n",
        "answer6=input(\"cevap: \")\r\n",
        "if answer6==\"panama\" or answer1==\"PANAMA\":\r\n",
        "  print(\"correct answer\")\r\n",
        "  print(\"you got 10 points\")\r\n",
        "  points+=10\r\n",
        "  correct+=1\r\n",
        "elif answer6==\"\":\r\n",
        "  print(\"answer is 'panama' \")\r\n",
        "else:\r\n",
        "  print(\"wrong answer\")\r\n",
        "  print(\"answer is 'panama' \")\r\n",
        "\r\n"
      ],
      "execution_count": null,
      "outputs": []
    },
    {
      "cell_type": "code",
      "metadata": {
        "id": "7jL1Z-4Ongaa"
      },
      "source": [
        "question7=\"Pusulada N harfi hangi yönü ifade eder?\"\r\n",
        "print(question7)\r\n",
        "answer7=input(\"cevap: \")\r\n",
        "if answer7==\"kuzey\" or answer7==\"KUZEY\":\r\n",
        "  print(\"correct answer\")\r\n",
        "  print(\"you got 10 points\")\r\n",
        "  points+=10\r\n",
        "  correct+=1\r\n",
        "elif answer7==\"\":\r\n",
        "  print(\"answer is 'kuzey' \")\r\n",
        "else:\r\n",
        "  print(\"wrong answer\")\r\n",
        "  print(\"answer is 'kuzey' \")\r\n",
        "\r\n"
      ],
      "execution_count": null,
      "outputs": []
    },
    {
      "cell_type": "code",
      "metadata": {
        "id": "vhlRw-rOngkc"
      },
      "source": [
        "question8=\"Ay'a ilk defa kaç yılında ayak basılmıştır?\"\r\n",
        "print(question8)\r\n",
        "answer8=input(\"cevap: \")\r\n",
        "if answer8==\"1969\" :\r\n",
        "  print(\"correct answer\")\r\n",
        "  print(\"you got 10 points\")\r\n",
        "  points+=10\r\n",
        "  correct+=1\r\n",
        "elif answer8==\"\":\r\n",
        "  print(\"answer is '1969' \")\r\n",
        "else:\r\n",
        "  print(\"wrong answer\")\r\n",
        "  print(\"answer is '1969' \")\r\n",
        "\r\n"
      ],
      "execution_count": null,
      "outputs": []
    },
    {
      "cell_type": "code",
      "metadata": {
        "id": "r3zznOKMngs8"
      },
      "source": [
        "question9=\"Güneşe en yakın gezegen hangisidir?\"\r\n",
        "print(question9)\r\n",
        "answer9=input(\"cevap: \")\r\n",
        "if answer9==\"merkür\" or answer9==\"MERkÜR\":\r\n",
        "  print(\"correct answer\")\r\n",
        "  print(\"you got 10 points\")\r\n",
        "  points+=10\r\n",
        "  correct+=1\r\n",
        "elif answer9==\"\":\r\n",
        "  print(\"answer is 'merkür \")\r\n",
        "else:\r\n",
        "  print(\"wrong answer\")\r\n",
        "  print(\"answer is 'merkür \")\r\n",
        "\r\n"
      ],
      "execution_count": null,
      "outputs": []
    },
    {
      "cell_type": "code",
      "metadata": {
        "id": "chjeOS7dng1K"
      },
      "source": [
        "question10=\"Atletizmde mesafe olarak en uzun koşuya verilen isim nedir?\"\r\n",
        "print(question10)\r\n",
        "answer10=input(\"cevap: \")\r\n",
        "if answer10==\"maraton\" or answer10==\"MARATON\":\r\n",
        "  print(\"correct answer\")\r\n",
        "  print(\"you got 10 points\")\r\n",
        "  points+=10\r\n",
        "  correct+=1\r\n",
        "elif answer10==\"\":\r\n",
        "  print(\"answer is 'maraton \")\r\n",
        "else:\r\n",
        "  print(\"wrong answer\")\r\n",
        "  print(\"answer is 'maraton \")\r\n",
        "\r\n"
      ],
      "execution_count": null,
      "outputs": []
    },
    {
      "cell_type": "code",
      "metadata": {
        "id": "fVgnPtcfn_YU"
      },
      "source": [
        "if correct>5:\r\n",
        "  print(\"successfull\")\r\n",
        "elif correct<=5:\r\n",
        "  print(\"unseccessfull\")"
      ],
      "execution_count": null,
      "outputs": []
    },
    {
      "cell_type": "code",
      "metadata": {
        "id": "81boHqfUpOEq"
      },
      "source": [
        "print(\"Your score is \",points)\r\n"
      ],
      "execution_count": null,
      "outputs": []
    },
    {
      "cell_type": "markdown",
      "metadata": {
        "id": "dT1ixxQvDVsJ"
      },
      "source": [
        "# Yeni Bölüm"
      ]
    }
  ]
}